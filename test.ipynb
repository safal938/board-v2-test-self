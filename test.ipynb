{
 "cells": [
  {
   "cell_type": "code",
   "execution_count": 39,
   "id": "ef590efc",
   "metadata": {},
   "outputs": [],
   "source": [
    "import requests\n",
    "\n"
   ]
  },
  {
   "cell_type": "code",
   "execution_count": 40,
   "id": "0e9b5d99",
   "metadata": {},
   "outputs": [],
   "source": [
    "BASE_URL = \"http://localhost:3001\""
   ]
  },
  {
   "cell_type": "code",
   "execution_count": 41,
   "id": "3eac70b1",
   "metadata": {},
   "outputs": [
    {
     "data": {
      "text/plain": [
       "<Response [200]>"
      ]
     },
     "execution_count": 41,
     "metadata": {},
     "output_type": "execute_result"
    }
   ],
   "source": [
    "payload = {\n",
    "        \"itemId\": \"dashboard-item-1759853783245-patient-context\",\n",
    "        \"subElement\": \"medication-timeline\",\n",
    "        \"focusOptions\": {\n",
    "            \"zoom\": 1.8,\n",
    "            \"duration\": 1200,\n",
    "            \"highlight\": True\n",
    "        }\n",
    "    }\n",
    "requests.post(f\"{BASE_URL}/api/focus\", json=payload)"
   ]
  },
  {
   "cell_type": "code",
   "execution_count": 43,
   "id": "2220af37",
   "metadata": {},
   "outputs": [
    {
     "data": {
      "text/plain": [
       "<Response [200]>"
      ]
     },
     "execution_count": 43,
     "metadata": {},
     "output_type": "execute_result"
    }
   ],
   "source": [
    "payload = {\n",
    "        \"itemId\": \"dashboard-item-1759906076097-encounter-timeline\",\n",
    "        \n",
    "    }\n",
    "requests.post(f\"{BASE_URL}/api/focus\", json=payload)"
   ]
  },
  {
   "cell_type": "code",
   "execution_count": 44,
   "id": "faf99920",
   "metadata": {},
   "outputs": [
    {
     "data": {
      "text/plain": [
       "<Response [200]>"
      ]
     },
     "execution_count": 44,
     "metadata": {},
     "output_type": "execute_result"
    }
   ],
   "source": [
    "\n",
    "payload = {\"itemId\": \"raw-ice-lab-data-encounter-5\"}\n",
    "requests.post(f\"{BASE_URL}/api/focus\", json=payload)"
   ]
  },
  {
   "cell_type": "code",
   "execution_count": null,
   "id": "cc7819c3",
   "metadata": {},
   "outputs": [],
   "source": []
  }
 ],
 "metadata": {
  "kernelspec": {
   "display_name": "clean_env",
   "language": "python",
   "name": "python3"
  },
  "language_info": {
   "codemirror_mode": {
    "name": "ipython",
    "version": 3
   },
   "file_extension": ".py",
   "mimetype": "text/x-python",
   "name": "python",
   "nbconvert_exporter": "python",
   "pygments_lexer": "ipython3",
   "version": "3.10.16"
  }
 },
 "nbformat": 4,
 "nbformat_minor": 5
}
